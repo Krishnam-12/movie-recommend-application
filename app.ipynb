{
 "cells": [
  {
   "cell_type": "code",
   "execution_count": null,
   "id": "88f65064",
   "metadata": {},
   "outputs": [
    {
     "name": "stdout",
     "output_type": "stream",
     "text": [
      " * Serving Flask app \"__main__\" (lazy loading)\n",
      " * Environment: production\n",
      "\u001b[31m   WARNING: This is a development server. Do not use it in a production deployment.\u001b[0m\n",
      "\u001b[2m   Use a production WSGI server instead.\u001b[0m\n",
      " * Debug mode: off\n"
     ]
    },
    {
     "name": "stderr",
     "output_type": "stream",
     "text": [
      " * Running on http://127.0.0.1:5000/ (Press CTRL+C to quit)\n",
      "127.0.0.1 - - [16/Jul/2023 18:07:02] \"GET / HTTP/1.1\" 200 -\n",
      "127.0.0.1 - - [16/Jul/2023 18:07:03] \"GET //movieimg.png HTTP/1.1\" 404 -\n",
      "[2023-07-16 18:17:00,997] ERROR in app: Exception on /recommendation [POST]\n",
      "Traceback (most recent call last):\n",
      "  File \"C:\\Users\\KIIT\\anaconda3\\lib\\site-packages\\flask\\app.py\", line 2447, in wsgi_app\n",
      "    response = self.full_dispatch_request()\n",
      "  File \"C:\\Users\\KIIT\\anaconda3\\lib\\site-packages\\flask\\app.py\", line 1952, in full_dispatch_request\n",
      "    rv = self.handle_user_exception(e)\n",
      "  File \"C:\\Users\\KIIT\\anaconda3\\lib\\site-packages\\flask\\app.py\", line 1821, in handle_user_exception\n",
      "    reraise(exc_type, exc_value, tb)\n",
      "  File \"C:\\Users\\KIIT\\anaconda3\\lib\\site-packages\\flask\\_compat.py\", line 39, in reraise\n",
      "    raise value\n",
      "  File \"C:\\Users\\KIIT\\anaconda3\\lib\\site-packages\\flask\\app.py\", line 1950, in full_dispatch_request\n",
      "    rv = self.dispatch_request()\n",
      "  File \"C:\\Users\\KIIT\\anaconda3\\lib\\site-packages\\flask\\app.py\", line 1936, in dispatch_request\n",
      "    return self.view_functions[rule.endpoint](**req.view_args)\n",
      "  File \"C:\\Users\\KIIT\\AppData\\Local\\Temp\\ipykernel_16312\\1309947613.py\", line 29, in recommendation\n",
      "    recommended_movies_name=recommend(movie1)\n",
      "  File \"C:\\Users\\KIIT\\AppData\\Local\\Temp\\ipykernel_16312\\1309947613.py\", line 11, in recommend\n",
      "    close_match = find_close_match[0]\n",
      "IndexError: list index out of range\n",
      "127.0.0.1 - - [16/Jul/2023 18:17:01] \"POST /recommendation HTTP/1.1\" 500 -\n",
      "127.0.0.1 - - [16/Jul/2023 18:17:25] \"POST /recommendation HTTP/1.1\" 200 -\n",
      "127.0.0.1 - - [16/Jul/2023 18:17:25] \"GET //movieimg.png HTTP/1.1\" 404 -\n"
     ]
    },
    {
     "name": "stdout",
     "output_type": "stream",
     "text": [
      "Mission impossible: 'Mission: Impossible II', 'Raising Cain', 'Clear and Present Danger', 'Agent Cody Banks 2: Destination London', 'Dr. No'\n"
     ]
    },
    {
     "name": "stderr",
     "output_type": "stream",
     "text": [
      "127.0.0.1 - - [16/Jul/2023 18:18:02] \"POST /recommendation HTTP/1.1\" 200 -\n",
      "127.0.0.1 - - [16/Jul/2023 18:18:02] \"GET //movieimg.png HTTP/1.1\" 404 -\n"
     ]
    },
    {
     "name": "stdout",
     "output_type": "stream",
     "text": [
      "Conjuring: 'The Conjuring 2', 'Howards End', 'Higher Ground', 'Atonement', 'Our Idiot Brother'\n"
     ]
    }
   ],
   "source": [
    "from flask import Flask, request, jsonify, render_template\n",
    "import pickle\n",
    "import difflib\n",
    "\n",
    "movies=pickle.load(open('movies_list','rb'))\n",
    "similarity=pickle.load(open('similarity','rb'))\n",
    "\n",
    "def recommend(movie):\n",
    "    list_of_all_titles = movies['title'].tolist()\n",
    "    find_close_match = difflib.get_close_matches(movie, list_of_all_titles)\n",
    "    close_match = find_close_match[0]\n",
    "    index=movies[movies['title']==close_match].index[0]\n",
    "    distances=sorted(list(enumerate(similarity[index])),reverse=True, key=lambda x:x[1])\n",
    "    recommended_movies=[]\n",
    "    for i in distances[1:6]:\n",
    "        recommended_movies.append(movies.iloc[i[0]].title)\n",
    "    return recommended_movies\n",
    "app = Flask(__name__)\n",
    "\n",
    "\n",
    "@app.route(\"/\")\n",
    "def hello():\n",
    "    return render_template('index.html')\n",
    "\n",
    "@app.route(\"/recommendation\", methods=['POST'])\n",
    "def recommendation():\n",
    "    movie1=request.form['movies']\n",
    "#     movie1=request.form.values()\n",
    "    recommended_movies_name=recommend(movie1)\n",
    "    recommended_movies_string = \", \".join(f\"'{item}'\" for item in recommended_movies_name)\n",
    "    recommended_movies_string= movie1+\": \"+recommended_movies_string\n",
    "    print(recommended_movies_string)\n",
    "    return render_template('index.html',prdiction_text='Here are the movie recommendations for {}'.format(recommended_movies_string))\n",
    "\n",
    "if __name__ == '__main__':\n",
    "    app.run()"
   ]
  },
  {
   "cell_type": "code",
   "execution_count": null,
   "id": "92b98394",
   "metadata": {},
   "outputs": [],
   "source": []
  }
 ],
 "metadata": {
  "kernelspec": {
   "display_name": "Python 3 (ipykernel)",
   "language": "python",
   "name": "python3"
  },
  "language_info": {
   "codemirror_mode": {
    "name": "ipython",
    "version": 3
   },
   "file_extension": ".py",
   "mimetype": "text/x-python",
   "name": "python",
   "nbconvert_exporter": "python",
   "pygments_lexer": "ipython3",
   "version": "3.9.13"
  }
 },
 "nbformat": 4,
 "nbformat_minor": 5
}
